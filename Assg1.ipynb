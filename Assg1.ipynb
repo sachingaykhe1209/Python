{
 "cells": [
  {
   "cell_type": "markdown",
   "id": "b3eb11da",
   "metadata": {},
   "source": [
    "# Set A"
   ]
  },
  {
   "cell_type": "markdown",
   "id": "ef76a0b1",
   "metadata": {},
   "source": [
    "# 1.Python Program to Calculate the Area of a Triangle"
   ]
  },
  {
   "cell_type": "raw",
   "id": "22182d99",
   "metadata": {},
   "source": [
    "If a, b and c are three sides of a triangle. \n",
    "Then,\n",
    "semi-perimeter : s = (a+b+c)/2\n",
    "area = √(s(s-a)*(s-b)*(s-c))"
   ]
  },
  {
   "cell_type": "code",
   "execution_count": 1,
   "id": "8732cd26",
   "metadata": {},
   "outputs": [
    {
     "name": "stdout",
     "output_type": "stream",
     "text": [
      "The area of the triangle is 14.70\n"
     ]
    }
   ],
   "source": [
    "# Python Program to find the area of triangle\n",
    "a = 5\n",
    "b = 6\n",
    "c = 7\n",
    "\n",
    "# Uncomment below to take inputs from the user\n",
    "# a = float(input('Enter first side: '))\n",
    "# b = float(input('Enter second side: '))\n",
    "# c = float(input('Enter third side: '))\n",
    "\n",
    "# calculate the semi-perimeter\n",
    "s = (a + b + c) / 2\n",
    "\n",
    "# calculate the area\n",
    "area = (s*(s-a)*(s-b)*(s-c)) ** 0.5\n",
    "print('The area of the triangle is %0.2f' %area)"
   ]
  },
  {
   "cell_type": "raw",
   "id": "3ee3467e",
   "metadata": {},
   "source": [
    "Note - %0.2f floating-point specifies at least 0 wide and 2 numbers after the decimal. \n",
    "If you use %0.5f, then it will give 5 numbers after the decimal."
   ]
  },
  {
   "cell_type": "markdown",
   "id": "7a7c6e10",
   "metadata": {},
   "source": [
    "# 2.Python Program to Swap Two Variables\n",
    "# Example : a =10 b=12"
   ]
  },
  {
   "cell_type": "markdown",
   "id": "cabfdf9c",
   "metadata": {},
   "source": [
    "# Method 1: "
   ]
  },
  {
   "cell_type": "code",
   "execution_count": 7,
   "id": "a9b7ea9f",
   "metadata": {},
   "outputs": [
    {
     "name": "stdout",
     "output_type": "stream",
     "text": [
      "Please enter value for a: 10\n",
      "Please enter value for b: 15\n",
      "********** befter swapping: *********** \n",
      "a =  10 b =  15\n",
      "********** after swapping: *********** \n",
      "a =  15 b =  10\n"
     ]
    }
   ],
   "source": [
    "#Python Program to Swap Two Variables.\n",
    "a = int( input(\"Please enter value for a: \"))  \n",
    "b = int( input(\"Please enter value for b: \"))  \n",
    "\n",
    "print (\"********** befter swapping: *********** \")  \n",
    "print (\"a = \",a  ,\"b = \", b)  \n",
    "\n",
    "# To swap the value of two variables  \n",
    "# we will user third variable which is a temporary variable  \n",
    "temp = a  \n",
    "a = b  \n",
    "b = temp  \n",
    "   \n",
    "print (\"********** after swapping: *********** \")  \n",
    "print (\"a = \",a  ,\"b = \", b)  "
   ]
  },
  {
   "cell_type": "markdown",
   "id": "0520d9e3",
   "metadata": {},
   "source": [
    "# Method 2:"
   ]
  },
  {
   "cell_type": "code",
   "execution_count": 2,
   "id": "2aad2e67",
   "metadata": {},
   "outputs": [
    {
     "name": "stdout",
     "output_type": "stream",
     "text": [
      "Please enter value for a: 15\n",
      "Please enter value for b: 12\n",
      "********** befter swapping: *********** \n",
      "a =  15 b =  12\n",
      "********** after swapping: *********** \n",
      "a =  12 b =  15\n"
     ]
    }
   ],
   "source": [
    "#Python Program to Swap Two Variables\n",
    "a = int( input(\"Please enter value for a: \"))  \n",
    "b = int( input(\"Please enter value for b: \"))  \n",
    "\n",
    "print (\"********** befter swapping: *********** \")  \n",
    "print (\"a = \",a  ,\"b = \", b)  \n",
    "\n",
    "# To swap the value of two variables  \n",
    "# we will user third variable which is a temporary variable  \n",
    "a = a + b    \n",
    "b = a - b   \n",
    "a = a - b  \n",
    "   \n",
    "print (\"********** after swapping: *********** \")  \n",
    "print (\"a = \",a  ,\"b = \", b)  "
   ]
  },
  {
   "cell_type": "markdown",
   "id": "1472063a",
   "metadata": {},
   "source": [
    "# 3. Python Program to Generate a Random Number"
   ]
  },
  {
   "cell_type": "code",
   "execution_count": 8,
   "id": "e47a01d9",
   "metadata": {},
   "outputs": [
    {
     "name": "stdout",
     "output_type": "stream",
     "text": [
      "Random Number is : 0.46041092809373907\n"
     ]
    }
   ],
   "source": [
    "# Program to generate a random number.\n",
    "\n",
    "# importing the random module\n",
    "import random\n",
    "num = random.random()\n",
    "print(\"Random Number is :\",num)"
   ]
  },
  {
   "cell_type": "code",
   "execution_count": 9,
   "id": "8a4769b9",
   "metadata": {},
   "outputs": [
    {
     "name": "stdout",
     "output_type": "stream",
     "text": [
      "Random Number is : 6\n"
     ]
    }
   ],
   "source": [
    "# Program to generate a random number between 0 and 9\n",
    "\n",
    "# importing the random module\n",
    "import random\n",
    "num = random.randint(0,9)\n",
    "print(\"Random Number is :\",num)"
   ]
  },
  {
   "cell_type": "code",
   "execution_count": 14,
   "id": "7b2a14b2",
   "metadata": {},
   "outputs": [
    {
     "name": "stdout",
     "output_type": "stream",
     "text": [
      "[3, 10, 6, 13, 16, 14, 19, 4, 15, 18]\n"
     ]
    }
   ],
   "source": [
    "# Program to generate a random number using for loop.\n",
    "import random  \n",
    "rand_list = []  \n",
    "for i in range(0,10):  \n",
    "    n = random.randint(1,20)  \n",
    "    rand_list.append(n)  \n",
    "print(rand_list)  "
   ]
  },
  {
   "cell_type": "markdown",
   "id": "6055cf18",
   "metadata": {},
   "source": [
    "# Set B"
   ]
  },
  {
   "cell_type": "markdown",
   "id": "eb19580f",
   "metadata": {},
   "source": [
    "# 1. Write a Python Program to Check if a Number is Positive, Negative or Zero. (Using if...elif...else)"
   ]
  },
  {
   "cell_type": "code",
   "execution_count": 18,
   "id": "c0150279",
   "metadata": {},
   "outputs": [
    {
     "name": "stdout",
     "output_type": "stream",
     "text": [
      "Enter a number: 15\n",
      "Positive number\n"
     ]
    }
   ],
   "source": [
    "#Write a Python Program to Check if a Number is Positive, Negative or Zero. (Using if...elif...else).\n",
    "num = float(input(\"Enter a number: \"))\n",
    "if num == 0:\n",
    "    print(\"Zero\")\n",
    "elif num > 0:\n",
    "    print(\"Positive number\")\n",
    "else:\n",
    "    print(\"Negative number\")"
   ]
  },
  {
   "cell_type": "markdown",
   "id": "c4b9e735",
   "metadata": {},
   "source": [
    "#  Using Nested if"
   ]
  },
  {
   "cell_type": "code",
   "execution_count": 19,
   "id": "e111ae96",
   "metadata": {},
   "outputs": [
    {
     "name": "stdout",
     "output_type": "stream",
     "text": [
      "Enter a number: -15\n",
      "Negative number\n"
     ]
    }
   ],
   "source": [
    "#Write a Python Program to Check if a Number is Positive, Negative or Zero. (Using Nested if).\n",
    "num = float(input(\"Enter a number: \"))\n",
    "if num >= 0:\n",
    "    if num == 0:\n",
    "        print(\"Zero\")\n",
    "    else:\n",
    "        print(\"Positive number\")\n",
    "else:\n",
    "    print(\"Negative number\")"
   ]
  },
  {
   "cell_type": "markdown",
   "id": "7b2e2d39",
   "metadata": {},
   "source": [
    "# 2. Write a Python Program to Check if a Number is Odd or Even."
   ]
  },
  {
   "cell_type": "code",
   "execution_count": 20,
   "id": "2edc3de1",
   "metadata": {},
   "outputs": [
    {
     "name": "stdout",
     "output_type": "stream",
     "text": [
      "Enter a number: 10\n",
      "10 is Even\n"
     ]
    }
   ],
   "source": [
    "#Write a Python Program to Check if a Number is Odd or Even.\n",
    "num = int(input(\"Enter a number: \"))\n",
    "if (num % 2) == 0:\n",
    "    print(\"{0} is Even\".format(num))\n",
    "else:\n",
    "    print(\"{0} is Odd\".format(num))"
   ]
  },
  {
   "cell_type": "markdown",
   "id": "beda62f2",
   "metadata": {},
   "source": [
    "# 3. Write a Python Program to Check Prime Number\n",
    "# Example : 2, 3, 5, 7"
   ]
  },
  {
   "cell_type": "raw",
   "id": "5d81c274",
   "metadata": {},
   "source": [
    "A positive integer greater than 1 which has no other factors except 1 and the number itself is called a prime number. "
   ]
  },
  {
   "cell_type": "code",
   "execution_count": 21,
   "id": "c4c35fda",
   "metadata": {},
   "outputs": [
    {
     "name": "stdout",
     "output_type": "stream",
     "text": [
      "Enter a number: 3\n",
      "3 is a prime number\n"
     ]
    }
   ],
   "source": [
    "#Write a Python Program to Check Prime Number\n",
    "num = int(input(\"Enter a number: \"))\n",
    "\n",
    "# define a flag variable\n",
    "flag = False\n",
    "\n",
    "# prime numbers are greater than 1\n",
    "if num > 1:\n",
    "    # check for factors\n",
    "    for i in range(2, num):\n",
    "        if (num % i) == 0:\n",
    "            # if factor is found, set flag to True\n",
    "            flag = True\n",
    "            # break out of loop\n",
    "            break\n",
    "\n",
    "# check if flag is True\n",
    "if flag:\n",
    "    print(num, \"is not a prime number\")\n",
    "else:\n",
    "    print(num, \"is a prime number\")"
   ]
  },
  {
   "cell_type": "markdown",
   "id": "eb7d72df",
   "metadata": {},
   "source": [
    "# 4. Write a Python Program to Check Armstrong Number."
   ]
  },
  {
   "cell_type": "raw",
   "id": "0f7a81d9",
   "metadata": {},
   "source": [
    "The sum of cubes of each digit is equal to the number itself.\n",
    "Example : 153 = 1^3 + 5^3 + 3^3"
   ]
  },
  {
   "cell_type": "code",
   "execution_count": null,
   "id": "4719242e",
   "metadata": {},
   "outputs": [],
   "source": [
    "#Write a Python Program to Check Armstrong Number.\n",
    "num = int(input(\"Enter a number: \"))\n",
    "\n",
    "# initialize sum\n",
    "sum = 0\n",
    "\n",
    "# find the sum of the cube of each digit\n",
    "temp = num\n",
    "while temp > 0:\n",
    "    digit = temp % 10\n",
    "    sum += digit ** 3\n",
    "    temp //= 10\n",
    "\n",
    "# display the result\n",
    "if num == sum:\n",
    "    print(num,\"is an Armstrong number\")\n",
    "else:\n",
    "    print(num,\"is not an Armstrong number\")\n"
   ]
  },
  {
   "cell_type": "markdown",
   "id": "3b2a7718",
   "metadata": {},
   "source": [
    "# 5. Write a Python Program to Find the Factorial of a Number.\n",
    "# Example : 3! = 3 * 2 * 1 "
   ]
  },
  {
   "cell_type": "code",
   "execution_count": null,
   "id": "46467c04",
   "metadata": {},
   "outputs": [],
   "source": [
    "# Write a Python Program to Find the Factorial of a Number.\n",
    "\n",
    "# change the value for a different result\n",
    "num = 7\n",
    "\n",
    "# To take input from the user\n",
    "#num = int(input(\"Enter a number: \"))\n",
    "\n",
    "factorial = 1\n",
    "\n",
    "# check if the number is negative, positive or zero\n",
    "if num < 0:\n",
    "   print(\"Sorry, factorial does not exist for negative numbers\")\n",
    "elif num == 0:\n",
    "   print(\"The factorial of 0 is 1\")\n",
    "else:\n",
    "   for i in range(1,num + 1):\n",
    "       factorial = factorial*i\n",
    "   print(\"The factorial of\",num,\"is\",factorial)\n"
   ]
  }
 ],
 "metadata": {
  "kernelspec": {
   "display_name": "Python 3",
   "language": "python",
   "name": "python3"
  },
  "language_info": {
   "codemirror_mode": {
    "name": "ipython",
    "version": 3
   },
   "file_extension": ".py",
   "mimetype": "text/x-python",
   "name": "python",
   "nbconvert_exporter": "python",
   "pygments_lexer": "ipython3",
   "version": "3.8.8"
  }
 },
 "nbformat": 4,
 "nbformat_minor": 5
}
